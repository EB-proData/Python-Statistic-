{
 "cells": [
  {
   "cell_type": "markdown",
   "id": "316d89a9",
   "metadata": {},
   "source": [
    "<div style=\" background-color: RGB(100,100,100);\" >\n",
    "<h1 style=\"margin: auto; padding: 20px 0; color:#fff; text-align: center\">PROJET 6 - DATA ANALYST</h1>\n",
    "<h2 style=\"margin: auto; padding: 20px 0; color:#fff; text-align: center\">Analyser les ventes d'une librairies avec Python\n",
    "</h2>\n",
    "</div>"
   ]
  },
  {
   "cell_type": "markdown",
   "id": "d4380be3",
   "metadata": {},
   "source": [
    "<div style=\"background-color: RGB(140,140,140);\" >\n",
    "<h2 style=\"margin: auto; padding: 20px; color:#fff; \">Etape de nettoyage des fichiers</h2>\n",
    "</div> "
   ]
  },
  {
   "cell_type": "code",
   "execution_count": 113,
   "id": "863e33a2",
   "metadata": {},
   "outputs": [],
   "source": [
    "import pandas as pd\n",
    "import numpy as np\n",
    "import seaborn as sns\n",
    "import matplotlib.pyplot as plt\n",
    "from scipy import stats\n",
    "from scipy.stats import chi2_contingency"
   ]
  },
  {
   "cell_type": "code",
   "execution_count": 114,
   "id": "bb3fa7e9",
   "metadata": {},
   "outputs": [],
   "source": [
    "customers = pd.read_csv(\"customers.csv\")\n",
    "products = pd.read_csv(\"products.csv\")\n",
    "transactions = pd.read_csv(\"transactions.csv\")"
   ]
  },
  {
   "cell_type": "code",
   "execution_count": 115,
   "id": "80861aab",
   "metadata": {},
   "outputs": [],
   "source": [
    "customers1=customers.copy()\n",
    "products1=products.copy()\n",
    "transactions1=transactions.copy()"
   ]
  },
  {
   "cell_type": "code",
   "execution_count": 116,
   "id": "70a0a7b5",
   "metadata": {},
   "outputs": [
    {
     "data": {
      "text/html": [
       "<div>\n",
       "<style scoped>\n",
       "    .dataframe tbody tr th:only-of-type {\n",
       "        vertical-align: middle;\n",
       "    }\n",
       "\n",
       "    .dataframe tbody tr th {\n",
       "        vertical-align: top;\n",
       "    }\n",
       "\n",
       "    .dataframe thead th {\n",
       "        text-align: right;\n",
       "    }\n",
       "</style>\n",
       "<table border=\"1\" class=\"dataframe\">\n",
       "  <thead>\n",
       "    <tr style=\"text-align: right;\">\n",
       "      <th></th>\n",
       "      <th>client_id</th>\n",
       "      <th>sex</th>\n",
       "      <th>birth</th>\n",
       "    </tr>\n",
       "  </thead>\n",
       "  <tbody>\n",
       "    <tr>\n",
       "      <th>0</th>\n",
       "      <td>c_4410</td>\n",
       "      <td>f</td>\n",
       "      <td>1967</td>\n",
       "    </tr>\n",
       "    <tr>\n",
       "      <th>1</th>\n",
       "      <td>c_7839</td>\n",
       "      <td>f</td>\n",
       "      <td>1975</td>\n",
       "    </tr>\n",
       "    <tr>\n",
       "      <th>2</th>\n",
       "      <td>c_1699</td>\n",
       "      <td>f</td>\n",
       "      <td>1984</td>\n",
       "    </tr>\n",
       "    <tr>\n",
       "      <th>3</th>\n",
       "      <td>c_5961</td>\n",
       "      <td>f</td>\n",
       "      <td>1962</td>\n",
       "    </tr>\n",
       "    <tr>\n",
       "      <th>4</th>\n",
       "      <td>c_5320</td>\n",
       "      <td>m</td>\n",
       "      <td>1943</td>\n",
       "    </tr>\n",
       "    <tr>\n",
       "      <th>...</th>\n",
       "      <td>...</td>\n",
       "      <td>...</td>\n",
       "      <td>...</td>\n",
       "    </tr>\n",
       "    <tr>\n",
       "      <th>8618</th>\n",
       "      <td>c_7920</td>\n",
       "      <td>m</td>\n",
       "      <td>1956</td>\n",
       "    </tr>\n",
       "    <tr>\n",
       "      <th>8619</th>\n",
       "      <td>c_7403</td>\n",
       "      <td>f</td>\n",
       "      <td>1970</td>\n",
       "    </tr>\n",
       "    <tr>\n",
       "      <th>8620</th>\n",
       "      <td>c_5119</td>\n",
       "      <td>m</td>\n",
       "      <td>1974</td>\n",
       "    </tr>\n",
       "    <tr>\n",
       "      <th>8621</th>\n",
       "      <td>c_5643</td>\n",
       "      <td>f</td>\n",
       "      <td>1968</td>\n",
       "    </tr>\n",
       "    <tr>\n",
       "      <th>8622</th>\n",
       "      <td>c_84</td>\n",
       "      <td>f</td>\n",
       "      <td>1982</td>\n",
       "    </tr>\n",
       "  </tbody>\n",
       "</table>\n",
       "<p>8623 rows × 3 columns</p>\n",
       "</div>"
      ],
      "text/plain": [
       "     client_id sex  birth\n",
       "0       c_4410   f   1967\n",
       "1       c_7839   f   1975\n",
       "2       c_1699   f   1984\n",
       "3       c_5961   f   1962\n",
       "4       c_5320   m   1943\n",
       "...        ...  ..    ...\n",
       "8618    c_7920   m   1956\n",
       "8619    c_7403   f   1970\n",
       "8620    c_5119   m   1974\n",
       "8621    c_5643   f   1968\n",
       "8622      c_84   f   1982\n",
       "\n",
       "[8623 rows x 3 columns]"
      ]
     },
     "metadata": {},
     "output_type": "display_data"
    },
    {
     "data": {
      "text/html": [
       "<div>\n",
       "<style scoped>\n",
       "    .dataframe tbody tr th:only-of-type {\n",
       "        vertical-align: middle;\n",
       "    }\n",
       "\n",
       "    .dataframe tbody tr th {\n",
       "        vertical-align: top;\n",
       "    }\n",
       "\n",
       "    .dataframe thead th {\n",
       "        text-align: right;\n",
       "    }\n",
       "</style>\n",
       "<table border=\"1\" class=\"dataframe\">\n",
       "  <thead>\n",
       "    <tr style=\"text-align: right;\">\n",
       "      <th></th>\n",
       "      <th>id_prod</th>\n",
       "      <th>price</th>\n",
       "      <th>categ</th>\n",
       "    </tr>\n",
       "  </thead>\n",
       "  <tbody>\n",
       "    <tr>\n",
       "      <th>0</th>\n",
       "      <td>0_1421</td>\n",
       "      <td>19.99</td>\n",
       "      <td>0</td>\n",
       "    </tr>\n",
       "    <tr>\n",
       "      <th>1</th>\n",
       "      <td>0_1368</td>\n",
       "      <td>5.13</td>\n",
       "      <td>0</td>\n",
       "    </tr>\n",
       "    <tr>\n",
       "      <th>2</th>\n",
       "      <td>0_731</td>\n",
       "      <td>17.99</td>\n",
       "      <td>0</td>\n",
       "    </tr>\n",
       "    <tr>\n",
       "      <th>3</th>\n",
       "      <td>1_587</td>\n",
       "      <td>4.99</td>\n",
       "      <td>1</td>\n",
       "    </tr>\n",
       "    <tr>\n",
       "      <th>4</th>\n",
       "      <td>0_1507</td>\n",
       "      <td>3.99</td>\n",
       "      <td>0</td>\n",
       "    </tr>\n",
       "    <tr>\n",
       "      <th>...</th>\n",
       "      <td>...</td>\n",
       "      <td>...</td>\n",
       "      <td>...</td>\n",
       "    </tr>\n",
       "    <tr>\n",
       "      <th>3282</th>\n",
       "      <td>2_23</td>\n",
       "      <td>115.99</td>\n",
       "      <td>2</td>\n",
       "    </tr>\n",
       "    <tr>\n",
       "      <th>3283</th>\n",
       "      <td>0_146</td>\n",
       "      <td>17.14</td>\n",
       "      <td>0</td>\n",
       "    </tr>\n",
       "    <tr>\n",
       "      <th>3284</th>\n",
       "      <td>0_802</td>\n",
       "      <td>11.22</td>\n",
       "      <td>0</td>\n",
       "    </tr>\n",
       "    <tr>\n",
       "      <th>3285</th>\n",
       "      <td>1_140</td>\n",
       "      <td>38.56</td>\n",
       "      <td>1</td>\n",
       "    </tr>\n",
       "    <tr>\n",
       "      <th>3286</th>\n",
       "      <td>0_1920</td>\n",
       "      <td>25.16</td>\n",
       "      <td>0</td>\n",
       "    </tr>\n",
       "  </tbody>\n",
       "</table>\n",
       "<p>3287 rows × 3 columns</p>\n",
       "</div>"
      ],
      "text/plain": [
       "     id_prod   price  categ\n",
       "0     0_1421   19.99      0\n",
       "1     0_1368    5.13      0\n",
       "2      0_731   17.99      0\n",
       "3      1_587    4.99      1\n",
       "4     0_1507    3.99      0\n",
       "...      ...     ...    ...\n",
       "3282    2_23  115.99      2\n",
       "3283   0_146   17.14      0\n",
       "3284   0_802   11.22      0\n",
       "3285   1_140   38.56      1\n",
       "3286  0_1920   25.16      0\n",
       "\n",
       "[3287 rows x 3 columns]"
      ]
     },
     "metadata": {},
     "output_type": "display_data"
    },
    {
     "data": {
      "text/html": [
       "<div>\n",
       "<style scoped>\n",
       "    .dataframe tbody tr th:only-of-type {\n",
       "        vertical-align: middle;\n",
       "    }\n",
       "\n",
       "    .dataframe tbody tr th {\n",
       "        vertical-align: top;\n",
       "    }\n",
       "\n",
       "    .dataframe thead th {\n",
       "        text-align: right;\n",
       "    }\n",
       "</style>\n",
       "<table border=\"1\" class=\"dataframe\">\n",
       "  <thead>\n",
       "    <tr style=\"text-align: right;\">\n",
       "      <th></th>\n",
       "      <th>id_prod</th>\n",
       "      <th>date</th>\n",
       "      <th>session_id</th>\n",
       "      <th>client_id</th>\n",
       "    </tr>\n",
       "  </thead>\n",
       "  <tbody>\n",
       "    <tr>\n",
       "      <th>0</th>\n",
       "      <td>0_1518</td>\n",
       "      <td>2022-05-20 13:21:29.043970</td>\n",
       "      <td>s_211425</td>\n",
       "      <td>c_103</td>\n",
       "    </tr>\n",
       "    <tr>\n",
       "      <th>1</th>\n",
       "      <td>1_251</td>\n",
       "      <td>2022-02-02 07:55:19.149409</td>\n",
       "      <td>s_158752</td>\n",
       "      <td>c_8534</td>\n",
       "    </tr>\n",
       "    <tr>\n",
       "      <th>2</th>\n",
       "      <td>0_1277</td>\n",
       "      <td>2022-06-18 15:44:33.155329</td>\n",
       "      <td>s_225667</td>\n",
       "      <td>c_6714</td>\n",
       "    </tr>\n",
       "    <tr>\n",
       "      <th>3</th>\n",
       "      <td>2_209</td>\n",
       "      <td>2021-06-24 04:19:29.835891</td>\n",
       "      <td>s_52962</td>\n",
       "      <td>c_6941</td>\n",
       "    </tr>\n",
       "    <tr>\n",
       "      <th>4</th>\n",
       "      <td>0_1509</td>\n",
       "      <td>2023-01-11 08:22:08.194479</td>\n",
       "      <td>s_325227</td>\n",
       "      <td>c_4232</td>\n",
       "    </tr>\n",
       "    <tr>\n",
       "      <th>...</th>\n",
       "      <td>...</td>\n",
       "      <td>...</td>\n",
       "      <td>...</td>\n",
       "      <td>...</td>\n",
       "    </tr>\n",
       "    <tr>\n",
       "      <th>679527</th>\n",
       "      <td>0_1551</td>\n",
       "      <td>2022-01-15 13:05:06.246925</td>\n",
       "      <td>s_150195</td>\n",
       "      <td>c_8489</td>\n",
       "    </tr>\n",
       "    <tr>\n",
       "      <th>679528</th>\n",
       "      <td>1_639</td>\n",
       "      <td>2022-03-19 16:03:23.429229</td>\n",
       "      <td>s_181434</td>\n",
       "      <td>c_4370</td>\n",
       "    </tr>\n",
       "    <tr>\n",
       "      <th>679529</th>\n",
       "      <td>0_1425</td>\n",
       "      <td>2022-12-20 04:33:37.584749</td>\n",
       "      <td>s_314704</td>\n",
       "      <td>c_304</td>\n",
       "    </tr>\n",
       "    <tr>\n",
       "      <th>679530</th>\n",
       "      <td>0_1994</td>\n",
       "      <td>2021-07-16 20:36:35.350579</td>\n",
       "      <td>s_63204</td>\n",
       "      <td>c_2227</td>\n",
       "    </tr>\n",
       "    <tr>\n",
       "      <th>679531</th>\n",
       "      <td>1_523</td>\n",
       "      <td>2022-09-28 01:12:01.973763</td>\n",
       "      <td>s_274568</td>\n",
       "      <td>c_3873</td>\n",
       "    </tr>\n",
       "  </tbody>\n",
       "</table>\n",
       "<p>679532 rows × 4 columns</p>\n",
       "</div>"
      ],
      "text/plain": [
       "       id_prod                        date session_id client_id\n",
       "0       0_1518  2022-05-20 13:21:29.043970   s_211425     c_103\n",
       "1        1_251  2022-02-02 07:55:19.149409   s_158752    c_8534\n",
       "2       0_1277  2022-06-18 15:44:33.155329   s_225667    c_6714\n",
       "3        2_209  2021-06-24 04:19:29.835891    s_52962    c_6941\n",
       "4       0_1509  2023-01-11 08:22:08.194479   s_325227    c_4232\n",
       "...        ...                         ...        ...       ...\n",
       "679527  0_1551  2022-01-15 13:05:06.246925   s_150195    c_8489\n",
       "679528   1_639  2022-03-19 16:03:23.429229   s_181434    c_4370\n",
       "679529  0_1425  2022-12-20 04:33:37.584749   s_314704     c_304\n",
       "679530  0_1994  2021-07-16 20:36:35.350579    s_63204    c_2227\n",
       "679531   1_523  2022-09-28 01:12:01.973763   s_274568    c_3873\n",
       "\n",
       "[679532 rows x 4 columns]"
      ]
     },
     "metadata": {},
     "output_type": "display_data"
    }
   ],
   "source": [
    "display (customers1)\n",
    "display (products1)\n",
    "display (transactions1)"
   ]
  },
  {
   "cell_type": "markdown",
   "id": "1be85a83",
   "metadata": {},
   "source": [
    "# Vérifications des types de données"
   ]
  },
  {
   "cell_type": "code",
   "execution_count": 117,
   "id": "9b74f441",
   "metadata": {},
   "outputs": [
    {
     "name": "stdout",
     "output_type": "stream",
     "text": [
      "client_id    object\n",
      "sex          object\n",
      "birth         int64\n",
      "dtype: object\n"
     ]
    }
   ],
   "source": [
    "# Fichier customers1\n",
    "df = pd.DataFrame(customers1)\n",
    "types_de_donnees = df.dtypes\n",
    "print(types_de_donnees)"
   ]
  },
  {
   "cell_type": "code",
   "execution_count": 118,
   "id": "7ce88444",
   "metadata": {},
   "outputs": [
    {
     "name": "stdout",
     "output_type": "stream",
     "text": [
      "id_prod     object\n",
      "price      float64\n",
      "categ        int64\n",
      "dtype: object\n"
     ]
    }
   ],
   "source": [
    "# Fichier products1\n",
    "df = pd.DataFrame(products1)\n",
    "types_de_donnees = df.dtypes\n",
    "print(types_de_donnees)"
   ]
  },
  {
   "cell_type": "code",
   "execution_count": 119,
   "id": "44e149d9",
   "metadata": {},
   "outputs": [
    {
     "name": "stdout",
     "output_type": "stream",
     "text": [
      "id_prod       object\n",
      "date          object\n",
      "session_id    object\n",
      "client_id     object\n",
      "dtype: object\n"
     ]
    }
   ],
   "source": [
    "# Fichier transactions1\n",
    "df = pd.DataFrame(transactions1)\n",
    "types_de_donnees = df.dtypes\n",
    "print(types_de_donnees)"
   ]
  },
  {
   "cell_type": "markdown",
   "id": "65da32f3",
   "metadata": {},
   "source": [
    "# Vérifications des doublons "
   ]
  },
  {
   "cell_type": "code",
   "execution_count": 120,
   "id": "3651e6c1",
   "metadata": {},
   "outputs": [
    {
     "data": {
      "text/html": [
       "<div>\n",
       "<style scoped>\n",
       "    .dataframe tbody tr th:only-of-type {\n",
       "        vertical-align: middle;\n",
       "    }\n",
       "\n",
       "    .dataframe tbody tr th {\n",
       "        vertical-align: top;\n",
       "    }\n",
       "\n",
       "    .dataframe thead th {\n",
       "        text-align: right;\n",
       "    }\n",
       "</style>\n",
       "<table border=\"1\" class=\"dataframe\">\n",
       "  <thead>\n",
       "    <tr style=\"text-align: right;\">\n",
       "      <th></th>\n",
       "      <th>client_id</th>\n",
       "      <th>sex</th>\n",
       "      <th>birth</th>\n",
       "    </tr>\n",
       "  </thead>\n",
       "  <tbody>\n",
       "  </tbody>\n",
       "</table>\n",
       "</div>"
      ],
      "text/plain": [
       "Empty DataFrame\n",
       "Columns: [client_id, sex, birth]\n",
       "Index: []"
      ]
     },
     "metadata": {},
     "output_type": "display_data"
    }
   ],
   "source": [
    "# Fichier customers1\n",
    "df = pd.DataFrame (customers1)\n",
    "lignes_doubles= df[df.duplicated()]\n",
    "display (lignes_doubles)"
   ]
  },
  {
   "cell_type": "code",
   "execution_count": 121,
   "id": "fd062d1b",
   "metadata": {},
   "outputs": [
    {
     "data": {
      "text/html": [
       "<div>\n",
       "<style scoped>\n",
       "    .dataframe tbody tr th:only-of-type {\n",
       "        vertical-align: middle;\n",
       "    }\n",
       "\n",
       "    .dataframe tbody tr th {\n",
       "        vertical-align: top;\n",
       "    }\n",
       "\n",
       "    .dataframe thead th {\n",
       "        text-align: right;\n",
       "    }\n",
       "</style>\n",
       "<table border=\"1\" class=\"dataframe\">\n",
       "  <thead>\n",
       "    <tr style=\"text-align: right;\">\n",
       "      <th></th>\n",
       "      <th>id_prod</th>\n",
       "      <th>price</th>\n",
       "      <th>categ</th>\n",
       "    </tr>\n",
       "  </thead>\n",
       "  <tbody>\n",
       "  </tbody>\n",
       "</table>\n",
       "</div>"
      ],
      "text/plain": [
       "Empty DataFrame\n",
       "Columns: [id_prod, price, categ]\n",
       "Index: []"
      ]
     },
     "metadata": {},
     "output_type": "display_data"
    }
   ],
   "source": [
    "# Fichier products1\n",
    "df = pd.DataFrame(products1)\n",
    "lignes_doubles = df[df.duplicated()]\n",
    "display (lignes_doubles)"
   ]
  },
  {
   "cell_type": "code",
   "execution_count": 122,
   "id": "ddca5258",
   "metadata": {},
   "outputs": [
    {
     "data": {
      "text/html": [
       "<div>\n",
       "<style scoped>\n",
       "    .dataframe tbody tr th:only-of-type {\n",
       "        vertical-align: middle;\n",
       "    }\n",
       "\n",
       "    .dataframe tbody tr th {\n",
       "        vertical-align: top;\n",
       "    }\n",
       "\n",
       "    .dataframe thead th {\n",
       "        text-align: right;\n",
       "    }\n",
       "</style>\n",
       "<table border=\"1\" class=\"dataframe\">\n",
       "  <thead>\n",
       "    <tr style=\"text-align: right;\">\n",
       "      <th></th>\n",
       "      <th>id_prod</th>\n",
       "      <th>date</th>\n",
       "      <th>session_id</th>\n",
       "      <th>client_id</th>\n",
       "    </tr>\n",
       "  </thead>\n",
       "  <tbody>\n",
       "    <tr>\n",
       "      <th>27778</th>\n",
       "      <td>T_0</td>\n",
       "      <td>test_2021-03-01 02:30:02.237437</td>\n",
       "      <td>s_0</td>\n",
       "      <td>ct_1</td>\n",
       "    </tr>\n",
       "    <tr>\n",
       "      <th>52424</th>\n",
       "      <td>T_0</td>\n",
       "      <td>test_2021-03-01 02:30:02.237419</td>\n",
       "      <td>s_0</td>\n",
       "      <td>ct_0</td>\n",
       "    </tr>\n",
       "    <tr>\n",
       "      <th>96687</th>\n",
       "      <td>T_0</td>\n",
       "      <td>test_2021-03-01 02:30:02.237412</td>\n",
       "      <td>s_0</td>\n",
       "      <td>ct_1</td>\n",
       "    </tr>\n",
       "    <tr>\n",
       "      <th>130188</th>\n",
       "      <td>T_0</td>\n",
       "      <td>test_2021-03-01 02:30:02.237419</td>\n",
       "      <td>s_0</td>\n",
       "      <td>ct_0</td>\n",
       "    </tr>\n",
       "    <tr>\n",
       "      <th>139339</th>\n",
       "      <td>T_0</td>\n",
       "      <td>test_2021-03-01 02:30:02.237443</td>\n",
       "      <td>s_0</td>\n",
       "      <td>ct_1</td>\n",
       "    </tr>\n",
       "    <tr>\n",
       "      <th>...</th>\n",
       "      <td>...</td>\n",
       "      <td>...</td>\n",
       "      <td>...</td>\n",
       "      <td>...</td>\n",
       "    </tr>\n",
       "    <tr>\n",
       "      <th>653098</th>\n",
       "      <td>T_0</td>\n",
       "      <td>test_2021-03-01 02:30:02.237432</td>\n",
       "      <td>s_0</td>\n",
       "      <td>ct_0</td>\n",
       "    </tr>\n",
       "    <tr>\n",
       "      <th>657830</th>\n",
       "      <td>T_0</td>\n",
       "      <td>test_2021-03-01 02:30:02.237417</td>\n",
       "      <td>s_0</td>\n",
       "      <td>ct_0</td>\n",
       "    </tr>\n",
       "    <tr>\n",
       "      <th>662081</th>\n",
       "      <td>T_0</td>\n",
       "      <td>test_2021-03-01 02:30:02.237427</td>\n",
       "      <td>s_0</td>\n",
       "      <td>ct_1</td>\n",
       "    </tr>\n",
       "    <tr>\n",
       "      <th>671647</th>\n",
       "      <td>T_0</td>\n",
       "      <td>test_2021-03-01 02:30:02.237424</td>\n",
       "      <td>s_0</td>\n",
       "      <td>ct_1</td>\n",
       "    </tr>\n",
       "    <tr>\n",
       "      <th>679180</th>\n",
       "      <td>T_0</td>\n",
       "      <td>test_2021-03-01 02:30:02.237425</td>\n",
       "      <td>s_0</td>\n",
       "      <td>ct_1</td>\n",
       "    </tr>\n",
       "  </tbody>\n",
       "</table>\n",
       "<p>126 rows × 4 columns</p>\n",
       "</div>"
      ],
      "text/plain": [
       "       id_prod                             date session_id client_id\n",
       "27778      T_0  test_2021-03-01 02:30:02.237437        s_0      ct_1\n",
       "52424      T_0  test_2021-03-01 02:30:02.237419        s_0      ct_0\n",
       "96687      T_0  test_2021-03-01 02:30:02.237412        s_0      ct_1\n",
       "130188     T_0  test_2021-03-01 02:30:02.237419        s_0      ct_0\n",
       "139339     T_0  test_2021-03-01 02:30:02.237443        s_0      ct_1\n",
       "...        ...                              ...        ...       ...\n",
       "653098     T_0  test_2021-03-01 02:30:02.237432        s_0      ct_0\n",
       "657830     T_0  test_2021-03-01 02:30:02.237417        s_0      ct_0\n",
       "662081     T_0  test_2021-03-01 02:30:02.237427        s_0      ct_1\n",
       "671647     T_0  test_2021-03-01 02:30:02.237424        s_0      ct_1\n",
       "679180     T_0  test_2021-03-01 02:30:02.237425        s_0      ct_1\n",
       "\n",
       "[126 rows x 4 columns]"
      ]
     },
     "metadata": {},
     "output_type": "display_data"
    }
   ],
   "source": [
    "# Fichier transactions1\n",
    "df = pd.DataFrame(transactions1)\n",
    "lignes_doubles = df[df.duplicated()]\n",
    "display(lignes_doubles)"
   ]
  },
  {
   "cell_type": "markdown",
   "id": "e1dd672c",
   "metadata": {},
   "source": [
    "126 lignes sont en doublons dans le fichier transactions cependant la date n'a pas un code identique. \n",
    "Nous pouvons voir que ce sont des lignes de Test donc pas de sessions clients réelles"
   ]
  },
  {
   "cell_type": "code",
   "execution_count": 123,
   "id": "5b8eae22",
   "metadata": {},
   "outputs": [
    {
     "data": {
      "text/html": [
       "<div>\n",
       "<style scoped>\n",
       "    .dataframe tbody tr th:only-of-type {\n",
       "        vertical-align: middle;\n",
       "    }\n",
       "\n",
       "    .dataframe tbody tr th {\n",
       "        vertical-align: top;\n",
       "    }\n",
       "\n",
       "    .dataframe thead th {\n",
       "        text-align: right;\n",
       "    }\n",
       "</style>\n",
       "<table border=\"1\" class=\"dataframe\">\n",
       "  <thead>\n",
       "    <tr style=\"text-align: right;\">\n",
       "      <th></th>\n",
       "      <th>id_prod</th>\n",
       "      <th>date</th>\n",
       "      <th>session_id</th>\n",
       "      <th>client_id</th>\n",
       "    </tr>\n",
       "  </thead>\n",
       "  <tbody>\n",
       "    <tr>\n",
       "      <th>3019</th>\n",
       "      <td>T_0</td>\n",
       "      <td>test_2021-03-01 02:30:02.237419</td>\n",
       "      <td>s_0</td>\n",
       "      <td>ct_0</td>\n",
       "    </tr>\n",
       "    <tr>\n",
       "      <th>5138</th>\n",
       "      <td>T_0</td>\n",
       "      <td>test_2021-03-01 02:30:02.237425</td>\n",
       "      <td>s_0</td>\n",
       "      <td>ct_0</td>\n",
       "    </tr>\n",
       "    <tr>\n",
       "      <th>9668</th>\n",
       "      <td>T_0</td>\n",
       "      <td>test_2021-03-01 02:30:02.237437</td>\n",
       "      <td>s_0</td>\n",
       "      <td>ct_1</td>\n",
       "    </tr>\n",
       "    <tr>\n",
       "      <th>10728</th>\n",
       "      <td>T_0</td>\n",
       "      <td>test_2021-03-01 02:30:02.237436</td>\n",
       "      <td>s_0</td>\n",
       "      <td>ct_0</td>\n",
       "    </tr>\n",
       "    <tr>\n",
       "      <th>15292</th>\n",
       "      <td>T_0</td>\n",
       "      <td>test_2021-03-01 02:30:02.237430</td>\n",
       "      <td>s_0</td>\n",
       "      <td>ct_0</td>\n",
       "    </tr>\n",
       "    <tr>\n",
       "      <th>...</th>\n",
       "      <td>...</td>\n",
       "      <td>...</td>\n",
       "      <td>...</td>\n",
       "      <td>...</td>\n",
       "    </tr>\n",
       "    <tr>\n",
       "      <th>657830</th>\n",
       "      <td>T_0</td>\n",
       "      <td>test_2021-03-01 02:30:02.237417</td>\n",
       "      <td>s_0</td>\n",
       "      <td>ct_0</td>\n",
       "    </tr>\n",
       "    <tr>\n",
       "      <th>662081</th>\n",
       "      <td>T_0</td>\n",
       "      <td>test_2021-03-01 02:30:02.237427</td>\n",
       "      <td>s_0</td>\n",
       "      <td>ct_1</td>\n",
       "    </tr>\n",
       "    <tr>\n",
       "      <th>670680</th>\n",
       "      <td>T_0</td>\n",
       "      <td>test_2021-03-01 02:30:02.237449</td>\n",
       "      <td>s_0</td>\n",
       "      <td>ct_1</td>\n",
       "    </tr>\n",
       "    <tr>\n",
       "      <th>671647</th>\n",
       "      <td>T_0</td>\n",
       "      <td>test_2021-03-01 02:30:02.237424</td>\n",
       "      <td>s_0</td>\n",
       "      <td>ct_1</td>\n",
       "    </tr>\n",
       "    <tr>\n",
       "      <th>679180</th>\n",
       "      <td>T_0</td>\n",
       "      <td>test_2021-03-01 02:30:02.237425</td>\n",
       "      <td>s_0</td>\n",
       "      <td>ct_1</td>\n",
       "    </tr>\n",
       "  </tbody>\n",
       "</table>\n",
       "<p>200 rows × 4 columns</p>\n",
       "</div>"
      ],
      "text/plain": [
       "       id_prod                             date session_id client_id\n",
       "3019       T_0  test_2021-03-01 02:30:02.237419        s_0      ct_0\n",
       "5138       T_0  test_2021-03-01 02:30:02.237425        s_0      ct_0\n",
       "9668       T_0  test_2021-03-01 02:30:02.237437        s_0      ct_1\n",
       "10728      T_0  test_2021-03-01 02:30:02.237436        s_0      ct_0\n",
       "15292      T_0  test_2021-03-01 02:30:02.237430        s_0      ct_0\n",
       "...        ...                              ...        ...       ...\n",
       "657830     T_0  test_2021-03-01 02:30:02.237417        s_0      ct_0\n",
       "662081     T_0  test_2021-03-01 02:30:02.237427        s_0      ct_1\n",
       "670680     T_0  test_2021-03-01 02:30:02.237449        s_0      ct_1\n",
       "671647     T_0  test_2021-03-01 02:30:02.237424        s_0      ct_1\n",
       "679180     T_0  test_2021-03-01 02:30:02.237425        s_0      ct_1\n",
       "\n",
       "[200 rows x 4 columns]"
      ]
     },
     "execution_count": 123,
     "metadata": {},
     "output_type": "execute_result"
    }
   ],
   "source": [
    "transactions1[transactions1[\"id_prod\"]==\"T_0\"]"
   ]
  },
  {
   "cell_type": "markdown",
   "id": "1c10f33c",
   "metadata": {},
   "source": [
    "Nous avons 200 lignes de notre dataframe contenant un id_prod \"test\". \n",
    "Je décide de supprimer ces lignes de tests avant de travailler sur mes données"
   ]
  },
  {
   "cell_type": "code",
   "execution_count": 124,
   "id": "771b7f7b",
   "metadata": {},
   "outputs": [
    {
     "data": {
      "text/html": [
       "<div>\n",
       "<style scoped>\n",
       "    .dataframe tbody tr th:only-of-type {\n",
       "        vertical-align: middle;\n",
       "    }\n",
       "\n",
       "    .dataframe tbody tr th {\n",
       "        vertical-align: top;\n",
       "    }\n",
       "\n",
       "    .dataframe thead th {\n",
       "        text-align: right;\n",
       "    }\n",
       "</style>\n",
       "<table border=\"1\" class=\"dataframe\">\n",
       "  <thead>\n",
       "    <tr style=\"text-align: right;\">\n",
       "      <th></th>\n",
       "      <th>id_prod</th>\n",
       "      <th>date</th>\n",
       "      <th>session_id</th>\n",
       "      <th>client_id</th>\n",
       "    </tr>\n",
       "  </thead>\n",
       "  <tbody>\n",
       "    <tr>\n",
       "      <th>0</th>\n",
       "      <td>0_1518</td>\n",
       "      <td>2022-05-20 13:21:29.043970</td>\n",
       "      <td>s_211425</td>\n",
       "      <td>c_103</td>\n",
       "    </tr>\n",
       "    <tr>\n",
       "      <th>1</th>\n",
       "      <td>1_251</td>\n",
       "      <td>2022-02-02 07:55:19.149409</td>\n",
       "      <td>s_158752</td>\n",
       "      <td>c_8534</td>\n",
       "    </tr>\n",
       "    <tr>\n",
       "      <th>2</th>\n",
       "      <td>0_1277</td>\n",
       "      <td>2022-06-18 15:44:33.155329</td>\n",
       "      <td>s_225667</td>\n",
       "      <td>c_6714</td>\n",
       "    </tr>\n",
       "    <tr>\n",
       "      <th>3</th>\n",
       "      <td>2_209</td>\n",
       "      <td>2021-06-24 04:19:29.835891</td>\n",
       "      <td>s_52962</td>\n",
       "      <td>c_6941</td>\n",
       "    </tr>\n",
       "    <tr>\n",
       "      <th>4</th>\n",
       "      <td>0_1509</td>\n",
       "      <td>2023-01-11 08:22:08.194479</td>\n",
       "      <td>s_325227</td>\n",
       "      <td>c_4232</td>\n",
       "    </tr>\n",
       "    <tr>\n",
       "      <th>...</th>\n",
       "      <td>...</td>\n",
       "      <td>...</td>\n",
       "      <td>...</td>\n",
       "      <td>...</td>\n",
       "    </tr>\n",
       "    <tr>\n",
       "      <th>679527</th>\n",
       "      <td>0_1551</td>\n",
       "      <td>2022-01-15 13:05:06.246925</td>\n",
       "      <td>s_150195</td>\n",
       "      <td>c_8489</td>\n",
       "    </tr>\n",
       "    <tr>\n",
       "      <th>679528</th>\n",
       "      <td>1_639</td>\n",
       "      <td>2022-03-19 16:03:23.429229</td>\n",
       "      <td>s_181434</td>\n",
       "      <td>c_4370</td>\n",
       "    </tr>\n",
       "    <tr>\n",
       "      <th>679529</th>\n",
       "      <td>0_1425</td>\n",
       "      <td>2022-12-20 04:33:37.584749</td>\n",
       "      <td>s_314704</td>\n",
       "      <td>c_304</td>\n",
       "    </tr>\n",
       "    <tr>\n",
       "      <th>679530</th>\n",
       "      <td>0_1994</td>\n",
       "      <td>2021-07-16 20:36:35.350579</td>\n",
       "      <td>s_63204</td>\n",
       "      <td>c_2227</td>\n",
       "    </tr>\n",
       "    <tr>\n",
       "      <th>679531</th>\n",
       "      <td>1_523</td>\n",
       "      <td>2022-09-28 01:12:01.973763</td>\n",
       "      <td>s_274568</td>\n",
       "      <td>c_3873</td>\n",
       "    </tr>\n",
       "  </tbody>\n",
       "</table>\n",
       "<p>679332 rows × 4 columns</p>\n",
       "</div>"
      ],
      "text/plain": [
       "       id_prod                        date session_id client_id\n",
       "0       0_1518  2022-05-20 13:21:29.043970   s_211425     c_103\n",
       "1        1_251  2022-02-02 07:55:19.149409   s_158752    c_8534\n",
       "2       0_1277  2022-06-18 15:44:33.155329   s_225667    c_6714\n",
       "3        2_209  2021-06-24 04:19:29.835891    s_52962    c_6941\n",
       "4       0_1509  2023-01-11 08:22:08.194479   s_325227    c_4232\n",
       "...        ...                         ...        ...       ...\n",
       "679527  0_1551  2022-01-15 13:05:06.246925   s_150195    c_8489\n",
       "679528   1_639  2022-03-19 16:03:23.429229   s_181434    c_4370\n",
       "679529  0_1425  2022-12-20 04:33:37.584749   s_314704     c_304\n",
       "679530  0_1994  2021-07-16 20:36:35.350579    s_63204    c_2227\n",
       "679531   1_523  2022-09-28 01:12:01.973763   s_274568    c_3873\n",
       "\n",
       "[679332 rows x 4 columns]"
      ]
     },
     "metadata": {},
     "output_type": "display_data"
    }
   ],
   "source": [
    "transactions1 = transactions1.drop(transactions1[transactions1[\"id_prod\"] == \"T_0\"].index)\n",
    "display (transactions1)"
   ]
  },
  {
   "cell_type": "code",
   "execution_count": 125,
   "id": "785fdd5b",
   "metadata": {},
   "outputs": [
    {
     "name": "stdout",
     "output_type": "stream",
     "text": [
      "Il ne reste pas de lignes avec un id_prod commençant par 'T'.\n"
     ]
    }
   ],
   "source": [
    "if any(transactions1[\"id_prod\"].str.startswith(\"T\")):\n",
    "    print(\"Il reste des lignes avec un id_prod commençant par 'T'.\")\n",
    "else:\n",
    "    print(\"Il ne reste pas de lignes avec un id_prod commençant par 'T'.\")"
   ]
  },
  {
   "cell_type": "code",
   "execution_count": 126,
   "id": "b911e486",
   "metadata": {},
   "outputs": [
    {
     "data": {
      "text/html": [
       "<div>\n",
       "<style scoped>\n",
       "    .dataframe tbody tr th:only-of-type {\n",
       "        vertical-align: middle;\n",
       "    }\n",
       "\n",
       "    .dataframe tbody tr th {\n",
       "        vertical-align: top;\n",
       "    }\n",
       "\n",
       "    .dataframe thead th {\n",
       "        text-align: right;\n",
       "    }\n",
       "</style>\n",
       "<table border=\"1\" class=\"dataframe\">\n",
       "  <thead>\n",
       "    <tr style=\"text-align: right;\">\n",
       "      <th></th>\n",
       "      <th>id_prod</th>\n",
       "      <th>date</th>\n",
       "      <th>session_id</th>\n",
       "      <th>client_id</th>\n",
       "    </tr>\n",
       "  </thead>\n",
       "  <tbody>\n",
       "  </tbody>\n",
       "</table>\n",
       "</div>"
      ],
      "text/plain": [
       "Empty DataFrame\n",
       "Columns: [id_prod, date, session_id, client_id]\n",
       "Index: []"
      ]
     },
     "metadata": {},
     "output_type": "display_data"
    }
   ],
   "source": [
    "df = pd.DataFrame(transactions1)\n",
    "lignes_doubles = df[df.duplicated()]\n",
    "display(lignes_doubles)"
   ]
  },
  {
   "cell_type": "markdown",
   "id": "d461f161",
   "metadata": {},
   "source": [
    "# Vérifications des valeurs manquantes"
   ]
  },
  {
   "cell_type": "code",
   "execution_count": 127,
   "id": "8c6bc40f",
   "metadata": {},
   "outputs": [
    {
     "name": "stdout",
     "output_type": "stream",
     "text": [
      "Le DataFrame ne contient pas de valeurs manquantes.\n"
     ]
    }
   ],
   "source": [
    "# Fichier customers1\n",
    "df = pd.DataFrame(customers1)\n",
    "\n",
    "# Vérifier s'il y a des valeurs manquantes dans le DataFrame\n",
    "if df.isna().any().any():\n",
    "    print(\"Le DataFrame contient des valeurs manquantes.\")\n",
    "else:\n",
    "    print(\"Le DataFrame ne contient pas de valeurs manquantes.\")"
   ]
  },
  {
   "cell_type": "code",
   "execution_count": 128,
   "id": "b3d12542",
   "metadata": {},
   "outputs": [
    {
     "name": "stdout",
     "output_type": "stream",
     "text": [
      "Le DataFrame ne contient pas de valeurs nulles.\n"
     ]
    }
   ],
   "source": [
    "# Fichier customers1\n",
    "df = pd.DataFrame(customers1)\n",
    "\n",
    "# Vérifier s'il y a des valeurs manquantes dans le DataFrame\n",
    "if df.isnull().any().any():\n",
    "    print(\"Le DataFrame contient des valeurs nulles.\")\n",
    "else:\n",
    "    print(\"Le DataFrame ne contient pas de valeurs nulles.\")"
   ]
  },
  {
   "cell_type": "code",
   "execution_count": 129,
   "id": "59ba3e6f",
   "metadata": {},
   "outputs": [
    {
     "name": "stdout",
     "output_type": "stream",
     "text": [
      "Le DataFrame ne contient pas de valeurs manquantes.\n"
     ]
    }
   ],
   "source": [
    "# Fichier products1\n",
    "df = pd.DataFrame(products1)\n",
    "\n",
    "# Vérifier s'il y a des valeurs manquantes dans le DataFrame\n",
    "if df.isna().any().any():\n",
    "    print(\"Le DataFrame contient des valeurs manquantes.\")\n",
    "else:\n",
    "    print(\"Le DataFrame ne contient pas de valeurs manquantes.\")"
   ]
  },
  {
   "cell_type": "code",
   "execution_count": 130,
   "id": "7259b358",
   "metadata": {},
   "outputs": [
    {
     "name": "stdout",
     "output_type": "stream",
     "text": [
      "Le DataFrame ne contient pas de valeurs nulles.\n"
     ]
    }
   ],
   "source": [
    "# Fichier customers1\n",
    "df = pd.DataFrame(products1)\n",
    "\n",
    "# Vérifier s'il y a des valeurs manquantes dans le DataFrame\n",
    "if df.isnull().any().any():\n",
    "    print(\"Le DataFrame contient des valeurs nulles.\")\n",
    "else:\n",
    "    print(\"Le DataFrame ne contient pas de valeurs nulles.\")"
   ]
  },
  {
   "cell_type": "code",
   "execution_count": 131,
   "id": "632433c1",
   "metadata": {},
   "outputs": [
    {
     "name": "stdout",
     "output_type": "stream",
     "text": [
      "Le DataFrame ne contient pas de valeurs manquantes.\n"
     ]
    }
   ],
   "source": [
    "# Fichier transactions1\n",
    "df = pd.DataFrame(transactions1)\n",
    "\n",
    "# Vérifier s'il y a des valeurs manquantes dans le DataFrame\n",
    "if df.isna().any().any():\n",
    "    print(\"Le DataFrame contient des valeurs manquantes.\")\n",
    "else:\n",
    "    print(\"Le DataFrame ne contient pas de valeurs manquantes.\")"
   ]
  },
  {
   "cell_type": "code",
   "execution_count": 132,
   "id": "88a5f665",
   "metadata": {},
   "outputs": [
    {
     "name": "stdout",
     "output_type": "stream",
     "text": [
      "Le DataFrame ne contient pas de valeurs nulles.\n"
     ]
    }
   ],
   "source": [
    "# Fichier transactions1\n",
    "df = pd.DataFrame(transactions1)\n",
    "\n",
    "# Vérifier s'il y a des valeurs manquantes dans le DataFrame\n",
    "if df.isnull().any().any():\n",
    "    print(\"Le DataFrame contient des valeurs nulles.\")\n",
    "else:\n",
    "    print(\"Le DataFrame ne contient pas de valeurs nulles.\")"
   ]
  },
  {
   "cell_type": "markdown",
   "id": "6a53beff",
   "metadata": {},
   "source": [
    "# Ajout de colonne \"age\"dans mon dataframe customers"
   ]
  },
  {
   "cell_type": "code",
   "execution_count": 133,
   "id": "a2d11737",
   "metadata": {},
   "outputs": [
    {
     "data": {
      "text/html": [
       "<div>\n",
       "<style scoped>\n",
       "    .dataframe tbody tr th:only-of-type {\n",
       "        vertical-align: middle;\n",
       "    }\n",
       "\n",
       "    .dataframe tbody tr th {\n",
       "        vertical-align: top;\n",
       "    }\n",
       "\n",
       "    .dataframe thead th {\n",
       "        text-align: right;\n",
       "    }\n",
       "</style>\n",
       "<table border=\"1\" class=\"dataframe\">\n",
       "  <thead>\n",
       "    <tr style=\"text-align: right;\">\n",
       "      <th></th>\n",
       "      <th>client_id</th>\n",
       "      <th>sex</th>\n",
       "      <th>birth</th>\n",
       "      <th>age</th>\n",
       "    </tr>\n",
       "  </thead>\n",
       "  <tbody>\n",
       "    <tr>\n",
       "      <th>0</th>\n",
       "      <td>c_4410</td>\n",
       "      <td>f</td>\n",
       "      <td>1967</td>\n",
       "      <td>56</td>\n",
       "    </tr>\n",
       "    <tr>\n",
       "      <th>1</th>\n",
       "      <td>c_7839</td>\n",
       "      <td>f</td>\n",
       "      <td>1975</td>\n",
       "      <td>48</td>\n",
       "    </tr>\n",
       "    <tr>\n",
       "      <th>2</th>\n",
       "      <td>c_1699</td>\n",
       "      <td>f</td>\n",
       "      <td>1984</td>\n",
       "      <td>39</td>\n",
       "    </tr>\n",
       "    <tr>\n",
       "      <th>3</th>\n",
       "      <td>c_5961</td>\n",
       "      <td>f</td>\n",
       "      <td>1962</td>\n",
       "      <td>61</td>\n",
       "    </tr>\n",
       "    <tr>\n",
       "      <th>4</th>\n",
       "      <td>c_5320</td>\n",
       "      <td>m</td>\n",
       "      <td>1943</td>\n",
       "      <td>80</td>\n",
       "    </tr>\n",
       "    <tr>\n",
       "      <th>...</th>\n",
       "      <td>...</td>\n",
       "      <td>...</td>\n",
       "      <td>...</td>\n",
       "      <td>...</td>\n",
       "    </tr>\n",
       "    <tr>\n",
       "      <th>8618</th>\n",
       "      <td>c_7920</td>\n",
       "      <td>m</td>\n",
       "      <td>1956</td>\n",
       "      <td>67</td>\n",
       "    </tr>\n",
       "    <tr>\n",
       "      <th>8619</th>\n",
       "      <td>c_7403</td>\n",
       "      <td>f</td>\n",
       "      <td>1970</td>\n",
       "      <td>53</td>\n",
       "    </tr>\n",
       "    <tr>\n",
       "      <th>8620</th>\n",
       "      <td>c_5119</td>\n",
       "      <td>m</td>\n",
       "      <td>1974</td>\n",
       "      <td>49</td>\n",
       "    </tr>\n",
       "    <tr>\n",
       "      <th>8621</th>\n",
       "      <td>c_5643</td>\n",
       "      <td>f</td>\n",
       "      <td>1968</td>\n",
       "      <td>55</td>\n",
       "    </tr>\n",
       "    <tr>\n",
       "      <th>8622</th>\n",
       "      <td>c_84</td>\n",
       "      <td>f</td>\n",
       "      <td>1982</td>\n",
       "      <td>41</td>\n",
       "    </tr>\n",
       "  </tbody>\n",
       "</table>\n",
       "<p>8623 rows × 4 columns</p>\n",
       "</div>"
      ],
      "text/plain": [
       "     client_id sex  birth  age\n",
       "0       c_4410   f   1967   56\n",
       "1       c_7839   f   1975   48\n",
       "2       c_1699   f   1984   39\n",
       "3       c_5961   f   1962   61\n",
       "4       c_5320   m   1943   80\n",
       "...        ...  ..    ...  ...\n",
       "8618    c_7920   m   1956   67\n",
       "8619    c_7403   f   1970   53\n",
       "8620    c_5119   m   1974   49\n",
       "8621    c_5643   f   1968   55\n",
       "8622      c_84   f   1982   41\n",
       "\n",
       "[8623 rows x 4 columns]"
      ]
     },
     "metadata": {},
     "output_type": "display_data"
    }
   ],
   "source": [
    "# Fichier customers1\n",
    "customers1[\"age\"] = 2023 - customers1[\"birth\"]\n",
    "display (customers1)"
   ]
  },
  {
   "cell_type": "markdown",
   "id": "1bb54c49",
   "metadata": {},
   "source": [
    "# Vérification complémentaires des types de données et des valeurs étranges"
   ]
  },
  {
   "cell_type": "code",
   "execution_count": 134,
   "id": "efb7f564",
   "metadata": {},
   "outputs": [
    {
     "name": "stdout",
     "output_type": "stream",
     "text": [
      "L'année de naissance la plus récente est : 2004\n",
      "L'année de naissance la plus ancienne est : 1929\n"
     ]
    }
   ],
   "source": [
    "# Fichier customers1\n",
    "birth_max = customers1[\"birth\"].max()\n",
    "print (\"L'année de naissance la plus récente est :\",birth_max)\n",
    "birth_min = customers1[\"birth\"].min()\n",
    "print (\"L'année de naissance la plus ancienne est :\",birth_min)"
   ]
  },
  {
   "cell_type": "code",
   "execution_count": 135,
   "id": "b78bef73",
   "metadata": {},
   "outputs": [
    {
     "name": "stdout",
     "output_type": "stream",
     "text": [
      "L'age le plus élévé dans nos clients est : 94\n",
      "L'age le plus petit dans nos clients est : 19\n",
      "La moyenne d'âge dans nos clients est : 45.0\n",
      "La mode d'âge dans nos clients est : 19\n"
     ]
    }
   ],
   "source": [
    "# Fichier customers1\n",
    "age_max = customers1[\"age\"].max()\n",
    "print (\"L'age le plus élévé dans nos clients est :\",age_max)\n",
    "age_min = customers1[\"age\"].min()\n",
    "print (\"L'age le plus petit dans nos clients est :\",age_min)\n",
    "age_moyen = customers1[\"age\"].mean()\n",
    "print(\"La moyenne d'âge dans nos clients est :\", round(age_moyen, 0))\n",
    "age_mode = customers1[\"age\"].mode().iloc[0]\n",
    "print(\"La mode d'âge dans nos clients est :\", age_mode)"
   ]
  },
  {
   "cell_type": "code",
   "execution_count": 136,
   "id": "b8e00017",
   "metadata": {},
   "outputs": [
    {
     "name": "stdout",
     "output_type": "stream",
     "text": [
      "Toutes les valeurs de la colonne 'client_id' sont de type object.\n"
     ]
    }
   ],
   "source": [
    "sex_dtype= customers1[\"client_id\"].dtype \n",
    "\n",
    "# Vérification si le type est différent de object\n",
    "if sex_dtype != \"object\":\n",
    "    print(\"La colonne 'client_id' contient des valeurs qui ne sont pas de type object.\")\n",
    "else:\n",
    "    print(\"Toutes les valeurs de la colonne 'client_id' sont de type object.\")\n"
   ]
  },
  {
   "cell_type": "code",
   "execution_count": 137,
   "id": "c5a08ef6",
   "metadata": {},
   "outputs": [
    {
     "name": "stdout",
     "output_type": "stream",
     "text": [
      "Toutes les valeurs de la colonne 'sex' sont de type object.\n"
     ]
    }
   ],
   "source": [
    "sex_dtype = customers1[\"sex\"].dtype \n",
    "\n",
    "# Vérification si le type est différent de object\n",
    "if sex_dtype != \"object\":\n",
    "    print(\"La colonne 'sex' contient des valeurs qui ne sont pas de type object.\")\n",
    "else:\n",
    "    print(\"Toutes les valeurs de la colonne 'sex' sont de type object.\")\n"
   ]
  },
  {
   "cell_type": "code",
   "execution_count": 138,
   "id": "3cd7e1f2",
   "metadata": {},
   "outputs": [
    {
     "name": "stdout",
     "output_type": "stream",
     "text": [
      "Toutes les valeurs de la colonne 'birth' sont de type int64.\n"
     ]
    }
   ],
   "source": [
    "birth_dtype = customers1[\"birth\"].dtype\n",
    "\n",
    "# Vérification si le type est différent de int64\n",
    "if birth_dtype != \"int64\":\n",
    "    print(\"La colonne 'birth' contient des valeurs qui ne sont pas de type int64.\")\n",
    "else:\n",
    "    print(\"Toutes les valeurs de la colonne 'birth' sont de type int64.\")\n"
   ]
  },
  {
   "cell_type": "code",
   "execution_count": 139,
   "id": "c6ca869b",
   "metadata": {},
   "outputs": [
    {
     "name": "stdout",
     "output_type": "stream",
     "text": [
      "Toutes les valeurs de la colonne 'age' sont de type int64.\n"
     ]
    }
   ],
   "source": [
    "age_type = customers1[\"age\"].dtype\n",
    "\n",
    "# Vérification si le type est différent de int64\n",
    "if age_type != \"int64\":\n",
    "    print(\"La colonne 'age' contient des valeurs qui ne sont pas de type int64.\")\n",
    "else:\n",
    "    print(\"Toutes les valeurs de la colonne 'age' sont de type int64.\")\n"
   ]
  },
  {
   "cell_type": "markdown",
   "id": "7e9d9ddd",
   "metadata": {},
   "source": [
    "# ______________________________________________________________"
   ]
  },
  {
   "cell_type": "code",
   "execution_count": 140,
   "id": "cc548e5b",
   "metadata": {},
   "outputs": [
    {
     "name": "stdout",
     "output_type": "stream",
     "text": [
      "Max pour le price est : 300.0\n",
      "Min pour le price est : -1.0\n",
      "Moyenne pour le price est : 21.85664131426833\n"
     ]
    }
   ],
   "source": [
    "# Fichier products1\n",
    "max_price = products1 [\"price\"].max()\n",
    "print(\"Max pour le price est :\", max_price)\n",
    "min_price = products1 [\"price\"].min()\n",
    "print (\"Min pour le price est :\", min_price)\n",
    "moyenne_price = products1 [\"price\"].mean()\n",
    "print (\"Moyenne pour le price est :\", moyenne_price)"
   ]
  },
  {
   "cell_type": "markdown",
   "id": "bfa83251",
   "metadata": {},
   "source": [
    "Je détecte un prix négatif. De plus, le prix max est, quant à lui, très éloigné de notre moyenne de prix."
   ]
  },
  {
   "cell_type": "code",
   "execution_count": 141,
   "id": "f6c4e4ae",
   "metadata": {},
   "outputs": [
    {
     "name": "stdout",
     "output_type": "stream",
     "text": [
      "     id_prod   price  categ\n",
      "947      2_2  300.00      2\n",
      "724     2_76  254.44      2\n",
      "394    2_158  247.22      2\n",
      "1436   2_167  236.99      2\n",
      "2779    2_30  233.54      2\n",
      "...      ...     ...    ...\n",
      "1211  0_1844    0.77      0\n",
      "370    0_120    0.66      0\n",
      "2272   0_528    0.62      0\n",
      "2355   0_202    0.62      0\n",
      "731      T_0   -1.00      0\n",
      "\n",
      "[3287 rows x 3 columns]\n"
     ]
    }
   ],
   "source": [
    "# Fichier products1\n",
    "trie_produit = products1.sort_values(by=[\"price\"], ascending=False)\n",
    "print(trie_produit)"
   ]
  },
  {
   "cell_type": "code",
   "execution_count": 142,
   "id": "6473afc5",
   "metadata": {},
   "outputs": [
    {
     "data": {
      "text/html": [
       "<div>\n",
       "<style scoped>\n",
       "    .dataframe tbody tr th:only-of-type {\n",
       "        vertical-align: middle;\n",
       "    }\n",
       "\n",
       "    .dataframe tbody tr th {\n",
       "        vertical-align: top;\n",
       "    }\n",
       "\n",
       "    .dataframe thead th {\n",
       "        text-align: right;\n",
       "    }\n",
       "</style>\n",
       "<table border=\"1\" class=\"dataframe\">\n",
       "  <thead>\n",
       "    <tr style=\"text-align: right;\">\n",
       "      <th></th>\n",
       "      <th>id_prod</th>\n",
       "      <th>price</th>\n",
       "      <th>categ</th>\n",
       "    </tr>\n",
       "  </thead>\n",
       "  <tbody>\n",
       "    <tr>\n",
       "      <th>731</th>\n",
       "      <td>T_0</td>\n",
       "      <td>-1.0</td>\n",
       "      <td>0</td>\n",
       "    </tr>\n",
       "  </tbody>\n",
       "</table>\n",
       "</div>"
      ],
      "text/plain": [
       "    id_prod  price  categ\n",
       "731     T_0   -1.0      0"
      ]
     },
     "execution_count": 142,
     "metadata": {},
     "output_type": "execute_result"
    }
   ],
   "source": [
    "products1[products1[\"id_prod\"]==\"T_0\"]"
   ]
  },
  {
   "cell_type": "markdown",
   "id": "23caa376",
   "metadata": {},
   "source": [
    "Le prix négatif est donc une session test. Je décide de supprimer cette ligne"
   ]
  },
  {
   "cell_type": "code",
   "execution_count": 143,
   "id": "43cce96e",
   "metadata": {},
   "outputs": [],
   "source": [
    "#suppresion de la ligne Test \"T_0\" avec un prix négatif\n",
    "products1 = products1.drop(products1[products1[\"id_prod\"] == \"T_0\"].index)"
   ]
  },
  {
   "cell_type": "code",
   "execution_count": 144,
   "id": "e9d9d695",
   "metadata": {},
   "outputs": [
    {
     "name": "stdout",
     "output_type": "stream",
     "text": [
      "     id_prod   price  categ\n",
      "947      2_2  300.00      2\n",
      "724     2_76  254.44      2\n",
      "394    2_158  247.22      2\n",
      "1436   2_167  236.99      2\n",
      "2779    2_30  233.54      2\n",
      "...      ...     ...    ...\n",
      "1530  0_1620    0.80      0\n",
      "1211  0_1844    0.77      0\n",
      "370    0_120    0.66      0\n",
      "2272   0_528    0.62      0\n",
      "2355   0_202    0.62      0\n",
      "\n",
      "[3286 rows x 3 columns]\n"
     ]
    }
   ],
   "source": [
    "trie_produit = products1.sort_values(by=[\"price\"], ascending=False)\n",
    "print(trie_produit)"
   ]
  },
  {
   "cell_type": "code",
   "execution_count": 145,
   "id": "b5c7a7d4",
   "metadata": {},
   "outputs": [
    {
     "name": "stdout",
     "output_type": "stream",
     "text": [
      "Max de la colonne 'categ' : 2\n"
     ]
    }
   ],
   "source": [
    "max_categ = products1[\"categ\"].max()\n",
    "print(\"Max de la colonne 'categ' :\", max_categ)"
   ]
  },
  {
   "cell_type": "code",
   "execution_count": 146,
   "id": "94369d58",
   "metadata": {},
   "outputs": [
    {
     "name": "stdout",
     "output_type": "stream",
     "text": [
      "Min de la colonne 'categ' : 0\n"
     ]
    }
   ],
   "source": [
    "min_categ = products1[\"categ\"].min()\n",
    "print(\"Min de la colonne 'categ' :\", min_categ)"
   ]
  },
  {
   "cell_type": "code",
   "execution_count": 147,
   "id": "7b9849bb",
   "metadata": {},
   "outputs": [
    {
     "name": "stdout",
     "output_type": "stream",
     "text": [
      "Mode de la colonne 'categ' : 0\n"
     ]
    }
   ],
   "source": [
    "mode_categ = products1[\"categ\"].mode().iloc[0]\n",
    "print(\"Mode de la colonne 'categ' :\", mode_categ)"
   ]
  },
  {
   "cell_type": "code",
   "execution_count": 148,
   "id": "3700fb17",
   "metadata": {},
   "outputs": [
    {
     "name": "stdout",
     "output_type": "stream",
     "text": [
      "Toutes les valeurs de la colonne 'categ' sont de type int64.\n"
     ]
    }
   ],
   "source": [
    "categ_dtype = products1[\"categ\"].dtype\n",
    "\n",
    "# Vérification si le type est différent de int64\n",
    "if categ_dtype != 'int64':\n",
    "    print(\"La colonne 'categ' contient des valeurs qui ne sont pas de type int64.\")\n",
    "else:\n",
    "    print(\"Toutes les valeurs de la colonne 'categ' sont de type int64.\")"
   ]
  },
  {
   "cell_type": "code",
   "execution_count": 149,
   "id": "5b7fc0e7",
   "metadata": {},
   "outputs": [
    {
     "name": "stdout",
     "output_type": "stream",
     "text": [
      "Toutes les valeurs de la colonne 'id_prod' sont de type object.\n"
     ]
    }
   ],
   "source": [
    "id_prod_dtype = products1[\"id_prod\"].dtype\n",
    "\n",
    "# Vérification si le type est différent de object\n",
    "if id_prod_dtype != \"object\":\n",
    "    print(\"La colonne 'id_prod' contient des valeurs qui ne sont pas de type object.\")\n",
    "else:\n",
    "    print(\"Toutes les valeurs de la colonne 'id_prod' sont de type object.\")"
   ]
  },
  {
   "cell_type": "code",
   "execution_count": 150,
   "id": "2918b9f4",
   "metadata": {},
   "outputs": [
    {
     "name": "stdout",
     "output_type": "stream",
     "text": [
      "Toutes les valeurs de la colonne 'price' sont de type float.\n"
     ]
    }
   ],
   "source": [
    "price_dtype = products1[\"price\"].dtype\n",
    "\n",
    "# Vérification si le type est différent de float64\n",
    "if price_dtype != \"float64\":\n",
    "    print(\"La colonne 'price' contient des valeurs qui ne sont pas de type float.\")\n",
    "else:\n",
    "    print(\"Toutes les valeurs de la colonne 'price' sont de type float.\")\n"
   ]
  },
  {
   "cell_type": "markdown",
   "id": "7d1483a2",
   "metadata": {},
   "source": [
    "# _______________________________________________________________"
   ]
  },
  {
   "cell_type": "code",
   "execution_count": 151,
   "id": "fa81bb82",
   "metadata": {},
   "outputs": [
    {
     "name": "stdout",
     "output_type": "stream",
     "text": [
      "Toutes les valeurs de la colonne 'id_prod' sont de type object.\n"
     ]
    }
   ],
   "source": [
    "# Fichier transactions1\n",
    "id_prod_dtype = transactions[\"id_prod\"].dtype\n",
    "\n",
    "# Vérification si le type est différent de float64\n",
    "if id_prod_dtype != \"object\":\n",
    "    print(\"La colonne 'id_prod' contient des valeurs qui ne sont pas de type object.\")\n",
    "else:\n",
    "    print(\"Toutes les valeurs de la colonne 'id_prod' sont de type object.\")"
   ]
  },
  {
   "cell_type": "code",
   "execution_count": 152,
   "id": "593b46ba",
   "metadata": {},
   "outputs": [
    {
     "name": "stdout",
     "output_type": "stream",
     "text": [
      "Le format de donnée pour la colonne 'date' est : object\n"
     ]
    }
   ],
   "source": [
    "date_dtype = transactions1[\"date\"].dtype\n",
    "print (\"Le format de donnée pour la colonne 'date' est :\", date_dtype)"
   ]
  },
  {
   "cell_type": "code",
   "execution_count": 153,
   "id": "870ed29b",
   "metadata": {},
   "outputs": [
    {
     "name": "stdout",
     "output_type": "stream",
     "text": [
      "  id_prod                 date session_id client_id\n",
      "0  0_1518  2022-05-20 13:21:29   s_211425     c_103\n",
      "1   1_251  2022-02-02 07:55:19   s_158752    c_8534\n",
      "2  0_1277  2022-06-18 15:44:33   s_225667    c_6714\n",
      "3   2_209  2021-06-24 04:19:29    s_52962    c_6941\n",
      "4  0_1509  2023-01-11 08:22:08   s_325227    c_4232\n"
     ]
    }
   ],
   "source": [
    "# Convertir la colonne \"date\" en type datetime\n",
    "transactions1[\"date\"] = pd.to_datetime(transactions1[\"date\"])\n",
    "\n",
    "# Formater les valeurs pour conserver uniquement jusqu'à la seconde (pas besoin des micro_secondes)\n",
    "transactions1[\"date\"] = transactions1[\"date\"].dt.strftime(\"%Y-%m-%d %H:%M:%S\")\n",
    "\n",
    "# Afficher les 5 premières lignes pour vérifier le résultat\n",
    "print(transactions1.head())"
   ]
  },
  {
   "cell_type": "code",
   "execution_count": 154,
   "id": "504587fd",
   "metadata": {},
   "outputs": [
    {
     "name": "stdout",
     "output_type": "stream",
     "text": [
      "datetime64[ns]\n"
     ]
    }
   ],
   "source": [
    "# Convertir la colonne \"date\" en type datetime\n",
    "transactions1[\"date\"] = pd.to_datetime(transactions1[\"date\"])\n",
    "\n",
    "# Vérifier le type de données après conversion\n",
    "date_dtype = transactions1[\"date\"].dtype\n",
    "print(date_dtype)"
   ]
  },
  {
   "cell_type": "code",
   "execution_count": 161,
   "id": "5608d531",
   "metadata": {},
   "outputs": [
    {
     "name": "stdout",
     "output_type": "stream",
     "text": [
      "La date la plus ancienne est : 2021-03-01 00:01:07\n"
     ]
    }
   ],
   "source": [
    "date_min = transactions1[\"date\"].min()\n",
    "print(\"La date la plus ancienne est :\", date_min)"
   ]
  },
  {
   "cell_type": "code",
   "execution_count": 160,
   "id": "fb904c0d",
   "metadata": {},
   "outputs": [
    {
     "name": "stdout",
     "output_type": "stream",
     "text": [
      "La date la plus récente est : 2023-02-28 23:58:30\n"
     ]
    }
   ],
   "source": [
    "date_max = transactions1[\"date\"].max()\n",
    "print(\"La date la plus récente est :\", date_max)"
   ]
  },
  {
   "cell_type": "code",
   "execution_count": 157,
   "id": "c79460b2",
   "metadata": {},
   "outputs": [
    {
     "name": "stdout",
     "output_type": "stream",
     "text": [
      "Toutes les valeurs de la colonne 'session_id' sont de type object.\n"
     ]
    }
   ],
   "source": [
    "session_id_dtype = transactions[\"session_id\"].dtype\n",
    "\n",
    "# Vérification si le type est différent de float64\n",
    "if session_id_dtype != \"object\":\n",
    "    print(\"La colonne 'session_id' contient des valeurs qui ne sont pas de type object.\")\n",
    "else:\n",
    "    print(\"Toutes les valeurs de la colonne 'session_id' sont de type object.\")"
   ]
  },
  {
   "cell_type": "code",
   "execution_count": 158,
   "id": "f1e6e747",
   "metadata": {},
   "outputs": [
    {
     "name": "stdout",
     "output_type": "stream",
     "text": [
      "Toutes les valeurs de la colonne 'client_id' sont de type object.\n"
     ]
    }
   ],
   "source": [
    "client_id_dtype = transactions[\"client_id\"].dtype\n",
    "\n",
    "# Vérification si le type est différent de float64\n",
    "if client_id_dtype != \"object\":\n",
    "    print(\"La colonne 'client_id' contient des valeurs qui ne sont pas de type object.\")\n",
    "else:\n",
    "    print(\"Toutes les valeurs de la colonne 'client_id' sont de type object.\")"
   ]
  },
  {
   "cell_type": "code",
   "execution_count": 159,
   "id": "134693d9",
   "metadata": {},
   "outputs": [
    {
     "data": {
      "text/html": [
       "<div>\n",
       "<style scoped>\n",
       "    .dataframe tbody tr th:only-of-type {\n",
       "        vertical-align: middle;\n",
       "    }\n",
       "\n",
       "    .dataframe tbody tr th {\n",
       "        vertical-align: top;\n",
       "    }\n",
       "\n",
       "    .dataframe thead th {\n",
       "        text-align: right;\n",
       "    }\n",
       "</style>\n",
       "<table border=\"1\" class=\"dataframe\">\n",
       "  <thead>\n",
       "    <tr style=\"text-align: right;\">\n",
       "      <th></th>\n",
       "      <th>id_prod</th>\n",
       "      <th>date</th>\n",
       "      <th>session_id</th>\n",
       "      <th>client_id</th>\n",
       "    </tr>\n",
       "  </thead>\n",
       "  <tbody>\n",
       "    <tr>\n",
       "      <th>480642</th>\n",
       "      <td>0_1259</td>\n",
       "      <td>2021-03-01 00:01:07</td>\n",
       "      <td>s_1</td>\n",
       "      <td>c_329</td>\n",
       "    </tr>\n",
       "    <tr>\n",
       "      <th>428477</th>\n",
       "      <td>0_1390</td>\n",
       "      <td>2021-03-01 00:02:26</td>\n",
       "      <td>s_2</td>\n",
       "      <td>c_664</td>\n",
       "    </tr>\n",
       "    <tr>\n",
       "      <th>462702</th>\n",
       "      <td>0_1352</td>\n",
       "      <td>2021-03-01 00:02:38</td>\n",
       "      <td>s_3</td>\n",
       "      <td>c_580</td>\n",
       "    </tr>\n",
       "    <tr>\n",
       "      <th>488300</th>\n",
       "      <td>0_1458</td>\n",
       "      <td>2021-03-01 00:04:54</td>\n",
       "      <td>s_4</td>\n",
       "      <td>c_7912</td>\n",
       "    </tr>\n",
       "    <tr>\n",
       "      <th>439073</th>\n",
       "      <td>0_1358</td>\n",
       "      <td>2021-03-01 00:05:18</td>\n",
       "      <td>s_5</td>\n",
       "      <td>c_2033</td>\n",
       "    </tr>\n",
       "    <tr>\n",
       "      <th>...</th>\n",
       "      <td>...</td>\n",
       "      <td>...</td>\n",
       "      <td>...</td>\n",
       "      <td>...</td>\n",
       "    </tr>\n",
       "    <tr>\n",
       "      <th>184649</th>\n",
       "      <td>1_508</td>\n",
       "      <td>2023-02-28 23:49:03</td>\n",
       "      <td>s_348444</td>\n",
       "      <td>c_3573</td>\n",
       "    </tr>\n",
       "    <tr>\n",
       "      <th>588183</th>\n",
       "      <td>2_37</td>\n",
       "      <td>2023-02-28 23:51:29</td>\n",
       "      <td>s_348445</td>\n",
       "      <td>c_50</td>\n",
       "    </tr>\n",
       "    <tr>\n",
       "      <th>130172</th>\n",
       "      <td>1_695</td>\n",
       "      <td>2023-02-28 23:53:18</td>\n",
       "      <td>s_348446</td>\n",
       "      <td>c_488</td>\n",
       "    </tr>\n",
       "    <tr>\n",
       "      <th>550455</th>\n",
       "      <td>0_1547</td>\n",
       "      <td>2023-02-28 23:58:00</td>\n",
       "      <td>s_348447</td>\n",
       "      <td>c_4848</td>\n",
       "    </tr>\n",
       "    <tr>\n",
       "      <th>84274</th>\n",
       "      <td>0_1398</td>\n",
       "      <td>2023-02-28 23:58:30</td>\n",
       "      <td>s_348435</td>\n",
       "      <td>c_3575</td>\n",
       "    </tr>\n",
       "  </tbody>\n",
       "</table>\n",
       "<p>679332 rows × 4 columns</p>\n",
       "</div>"
      ],
      "text/plain": [
       "       id_prod                date session_id client_id\n",
       "480642  0_1259 2021-03-01 00:01:07        s_1     c_329\n",
       "428477  0_1390 2021-03-01 00:02:26        s_2     c_664\n",
       "462702  0_1352 2021-03-01 00:02:38        s_3     c_580\n",
       "488300  0_1458 2021-03-01 00:04:54        s_4    c_7912\n",
       "439073  0_1358 2021-03-01 00:05:18        s_5    c_2033\n",
       "...        ...                 ...        ...       ...\n",
       "184649   1_508 2023-02-28 23:49:03   s_348444    c_3573\n",
       "588183    2_37 2023-02-28 23:51:29   s_348445      c_50\n",
       "130172   1_695 2023-02-28 23:53:18   s_348446     c_488\n",
       "550455  0_1547 2023-02-28 23:58:00   s_348447    c_4848\n",
       "84274   0_1398 2023-02-28 23:58:30   s_348435    c_3575\n",
       "\n",
       "[679332 rows x 4 columns]"
      ]
     },
     "metadata": {},
     "output_type": "display_data"
    }
   ],
   "source": [
    "trie_transactions1=transactions1.sort_values(by=\"date\", ascending=True)\n",
    "display(trie_transactions1)"
   ]
  },
  {
   "cell_type": "code",
   "execution_count": null,
   "id": "3487ae3f",
   "metadata": {},
   "outputs": [],
   "source": []
  }
 ],
 "metadata": {
  "kernelspec": {
   "display_name": "Python 3 (ipykernel)",
   "language": "python",
   "name": "python3"
  },
  "language_info": {
   "codemirror_mode": {
    "name": "ipython",
    "version": 3
   },
   "file_extension": ".py",
   "mimetype": "text/x-python",
   "name": "python",
   "nbconvert_exporter": "python",
   "pygments_lexer": "ipython3",
   "version": "3.11.5"
  }
 },
 "nbformat": 4,
 "nbformat_minor": 5
}
